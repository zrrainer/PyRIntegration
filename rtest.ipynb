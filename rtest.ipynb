{
 "cells": [
  {
   "cell_type": "code",
   "execution_count": 6,
   "metadata": {
    "vscode": {
     "languageId": "r"
    }
   },
   "outputs": [],
   "source": [
    "library(rmarkdown)\n",
    "library(reticulate)\n",
    "library(ggplot2)\n",
    "# import(\"IPython\", as = IPython)\n",
    "py_run_string(\"from IPython.display import display, Image, DisplayObject\")\n",
    "py_run_string(\"from IPython.display import clear_output\")\n",
    "source(\"module/Rscript.R\")\n",
    "pythonScript = source_python(\"module/pythonScript.py\")"
   ]
  },
  {
   "cell_type": "code",
   "execution_count": null,
   "metadata": {
    "vscode": {
     "languageId": "r"
    }
   },
   "outputs": [],
   "source": [
    "obj000 = obj(\"000\", 10,10,0,0,0,0)\n",
    "obj001 = obj(\"001\",1,1,1,1,1,1)\n",
    "obj002 = obj(\"002\",-20,12,0,0,0,0)\n",
    "\n",
    "\n",
    "createDf() #creates an empty dataframe\n",
    "updateDf() #adds data from all the obj objects to df"
   ]
  },
  {
   "cell_type": "code",
   "execution_count": null,
   "metadata": {
    "vscode": {
     "languageId": "r"
    }
   },
   "outputs": [],
   "source": [
    "while (TRUE){\n",
    "    img = makePlot() #visualize data stored in df. return ggplot object.\n",
    "\n",
    "    clear_output(wait = TRUE)\n",
    "    DisplayObject(img)\n",
    "    \n",
    "    for (i in obj$existing_objs){ #calculate the position of every obj instance for the next frame\n",
    "        obj$updateObjA(i)\n",
    "        obj$updateObjVP(i)\n",
    "    }\n",
    "    updateDf() #update df with all the updated data from the previous step\n",
    "}"
   ]
  },
  {
   "cell_type": "code",
   "execution_count": 7,
   "metadata": {
    "vscode": {
     "languageId": "r"
    }
   },
   "outputs": [
    {
     "data": {
      "text/plain": [
       "<IPython.core.display.DisplayObject object>"
      ]
     },
     "metadata": {},
     "output_type": "display_data"
    }
   ],
   "source": [
    "te = ggplot() \n",
    "DisplayObject(te)"
   ]
  }
 ],
 "metadata": {
  "kernelspec": {
   "display_name": "R",
   "language": "R",
   "name": "ir"
  },
  "language_info": {
   "codemirror_mode": "r",
   "file_extension": ".r",
   "mimetype": "text/x-r-source",
   "name": "R",
   "pygments_lexer": "r",
   "version": "4.3.2"
  }
 },
 "nbformat": 4,
 "nbformat_minor": 2
}
