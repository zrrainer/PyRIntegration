{
 "cells": [
  {
   "cell_type": "code",
   "execution_count": null,
   "metadata": {},
   "outputs": [],
   "source": [
    "import rpy2\n",
    "import rpy2.robjects as robjects\n",
    "from rpy2.robjects import rl\n",
    "import tkinter as tk\n",
    "from PIL import Image, ImageTk\n",
    "import math\n",
    "import time\n",
    "import numpy\n",
    "import scipy\n",
    "from scipy import constants\n",
    "from module.pythonScript import obj\n",
    "\n",
    "\n",
    "r = robjects.r\n",
    "r.source(\"./module/Rscript.R\")\n"
   ]
  },
  {
   "cell_type": "code",
   "execution_count": null,
   "metadata": {},
   "outputs": [],
   "source": [
    "\n",
    "obj001 = obj(\"001\",-10,0,0,0,0,0)\n",
    "obj002 = obj(\"002\",10,0,0,0,0,0)\n",
    "obj003 = obj(\"003\",0,17,0,0,0,0)\n",
    "\n",
    "\n",
    "obj.updateRdf()\n",
    "\n",
    "RmakePlot = robjects.globalenv['makePlot']    #make plot from df stored in R session\n",
    "RmakePlot()"
   ]
  },
  {
   "cell_type": "code",
   "execution_count": null,
   "metadata": {},
   "outputs": [],
   "source": [
    "\n",
    "\n",
    "# #------------something here is profoundly wrong-----------------\n",
    "def updateWindow(): #update window loop\n",
    "    #visualize data stored in df   \n",
    "    RmakePlot()\n",
    "    image = Image.open(\"images/plot.jpeg\")\n",
    "    image = ImageTk.PhotoImage(image)\n",
    "    \n",
    "    \n",
    "\n",
    "    \n",
    "    # #calculate next step & update df\n",
    "    for i in obj.existing_objs:\n",
    "        i.updateObjA()\n",
    "        i.updateObjVP()\n",
    "\n",
    "    obj.updateRdf() ###########something wrong with rpy2? \n",
    "\n",
    "\n",
    "\n",
    "    #label.config(image = \"images/devil-may-cry-devil-may-cry3.gif\")\n",
    "    # root.update()\n",
    "    # root.after(10, updateWindow)\n",
    "\n",
    "\n"
   ]
  }
 ],
 "metadata": {
  "language_info": {
   "name": "python"
  }
 },
 "nbformat": 4,
 "nbformat_minor": 2
}
