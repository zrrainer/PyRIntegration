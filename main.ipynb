{
 "cells": [
  {
   "cell_type": "markdown",
   "id": "84493608",
   "metadata": {},
   "source": [
    "This is a physics simulation using the Class function in python, where every instance of the class agent() represent an object in the simulation. \n",
    "\n",
    "Visualization is done via the ggplot2 package in R. \n",
    "\n",
    "p.s. in hindsight, there would've been easier way to do this in pure python. but this is experiemental and im so happy it worked out :) "
   ]
  },
  {
   "cell_type": "code",
   "execution_count": 1,
   "id": "0896d320",
   "metadata": {},
   "outputs": [
    {
     "name": "stderr",
     "output_type": "stream",
     "text": [
      "R[write to console]: ── Attaching packages ─────────────────────────────────────── tidyverse 1.3.1 ──\n",
      "\n",
      "R[write to console]: ✔ tibble  3.1.3     ✔ dplyr   1.0.7\n",
      "✔ tidyr   1.1.3     ✔ stringr 1.4.0\n",
      "✔ readr   1.4.0     ✔ forcats 0.5.1\n",
      "✔ purrr   0.3.4     \n",
      "\n",
      "R[write to console]: ── Conflicts ────────────────────────────────────────── tidyverse_conflicts() ──\n",
      "✖ purrr::%@%()                 masks rlang::%@%()\n",
      "✖ purrr::as_function()         masks rlang::as_function()\n",
      "✖ lazyeval::as_name()          masks rlang::as_name()\n",
      "✖ lazyeval::call_modify()      masks rlang::call_modify()\n",
      "✖ lazyeval::call_standardise() masks rlang::call_standardise()\n",
      "✖ lazyeval::expr_label()       masks rlang::expr_label()\n",
      "✖ lazyeval::expr_text()        masks rlang::expr_text()\n",
      "✖ lazyeval::f_env()            masks rlang::f_env()\n",
      "✖ lazyeval::f_env<-()          masks rlang::f_env<-()\n",
      "✖ lazyeval::f_label()          masks rlang::f_label()\n",
      "✖ lazyeval::f_lhs()            masks rlang::f_lhs()\n",
      "✖ lazyeval::f_lhs<-()          masks rlang::f_lhs<-()\n",
      "✖ lazyeval::f_rhs()            masks rlang::f_rhs()\n",
      "✖ lazyeval::f_rhs<-()          masks rlang::f_rhs<-()\n",
      "✖ lazyeval::f_text()           masks rlang::f_text()\n",
      "✖ dplyr::filter()              masks stats::filter()\n",
      "✖ purrr::flatten()             masks rlang::flatten()\n",
      "✖ purrr::flatten_chr()         masks rlang::flatten_chr()\n",
      "✖ purrr::flatten_dbl()         masks rlang::flatten_dbl()\n",
      "✖ purrr::flatten_int()         masks rlang::flatten_int()\n",
      "✖ purrr::flatten_lgl()         masks rlang::flatten_lgl()\n",
      "✖ purrr::flatten_raw()         masks rlang::flatten_raw()\n",
      "✖ purrr::invoke()              masks rlang::invoke()\n",
      "✖ purrr::is_atomic()           masks lazyeval::is_atomic(), rlang::is_atomic()\n",
      "✖ lazyeval::is_call()          masks rlang::is_call()\n",
      "✖ purrr::is_formula()          masks lazyeval::is_formula(), rlang::is_formula()\n",
      "✖ lazyeval::is_lang()          masks rlang::is_lang()\n",
      "✖ dplyr::lag()                 masks stats::lag()\n",
      "✖ purrr::list_along()          masks rlang::list_along()\n",
      "✖ lazyeval::missing_arg()      masks rlang::missing_arg()\n",
      "✖ purrr::modify()              masks rlang::modify()\n",
      "✖ purrr::prepend()             masks rlang::prepend()\n",
      "✖ purrr::splice()              masks rlang::splice()\n",
      "\n",
      "R[write to console]: Registered S3 method overwritten by 'tune':\n",
      "  method                   from   \n",
      "  required_pkgs.model_spec parsnip\n",
      "\n",
      "R[write to console]: ── Attaching packages ────────────────────────────────────── tidymodels 0.1.3 ──\n",
      "\n",
      "R[write to console]: ✔ broom        0.7.8      ✔ rsample      0.1.0 \n",
      "✔ dials        0.0.9      ✔ tune         0.1.6 \n",
      "✔ infer        0.5.4      ✔ workflows    0.2.3 \n",
      "✔ modeldata    0.1.1      ✔ workflowsets 0.1.0 \n",
      "✔ parsnip      0.1.7      ✔ yardstick    0.0.8 \n",
      "✔ recipes      0.1.16     \n",
      "\n",
      "R[write to console]: ── Conflicts ───────────────────────────────────────── tidymodels_conflicts() ──\n",
      "✖ purrr::%@%()                 masks rlang::%@%()\n",
      "✖ purrr::as_function()         masks rlang::as_function()\n",
      "✖ lazyeval::as_name()          masks rlang::as_name()\n",
      "✖ lazyeval::call_modify()      masks rlang::call_modify()\n",
      "✖ lazyeval::call_standardise() masks rlang::call_standardise()\n",
      "✖ scales::discard()            masks purrr::discard()\n",
      "✖ lazyeval::expr_label()       masks rlang::expr_label()\n",
      "✖ lazyeval::expr_text()        masks rlang::expr_text()\n",
      "✖ lazyeval::f_env()            masks rlang::f_env()\n",
      "✖ lazyeval::f_env<-()          masks rlang::f_env<-()\n",
      "✖ lazyeval::f_label()          masks rlang::f_label()\n",
      "✖ lazyeval::f_lhs()            masks rlang::f_lhs()\n",
      "✖ lazyeval::f_lhs<-()          masks rlang::f_lhs<-()\n",
      "✖ lazyeval::f_rhs()            masks rlang::f_rhs()\n",
      "✖ lazyeval::f_rhs<-()          masks rlang::f_rhs<-()\n",
      "✖ lazyeval::f_text()           masks rlang::f_text()\n",
      "✖ dplyr::filter()              masks stats::filter()\n",
      "✖ recipes::fixed()             masks stringr::fixed()\n",
      "✖ purrr::flatten()             masks rlang::flatten()\n",
      "✖ purrr::flatten_chr()         masks rlang::flatten_chr()\n",
      "✖ purrr::flatten_dbl()         masks rlang::flatten_dbl()\n",
      "✖ purrr::flatten_int()         masks rlang::flatten_int()\n",
      "✖ purrr::flatten_lgl()         masks rlang::flatten_lgl()\n",
      "✖ purrr::flatten_raw()         masks rlang::flatten_raw()\n",
      "✖ purrr::invoke()              masks rlang::invoke()\n",
      "✖ purrr::is_atomic()           masks lazyeval::is_atomic(), rlang::is_atomic()\n",
      "✖ lazyeval::is_call()          masks rlang::is_call()\n",
      "✖ purrr::is_formula()          masks lazyeval::is_formula(), rlang::is_formula()\n",
      "✖ lazyeval::is_lang()          masks rlang::is_lang()\n",
      "✖ dplyr::lag()                 masks stats::lag()\n",
      "✖ purrr::list_along()          masks rlang::list_along()\n",
      "✖ parsnip::make_call()         masks lazyeval::make_call()\n",
      "✖ lazyeval::missing_arg()      masks rlang::missing_arg()\n",
      "✖ purrr::modify()              masks rlang::modify()\n",
      "✖ purrr::prepend()             masks rlang::prepend()\n",
      "✖ yardstick::spec()            masks readr::spec()\n",
      "✖ purrr::splice()              masks rlang::splice()\n",
      "✖ recipes::step()              masks stats::step()\n",
      "• Use tidymodels_prefer() to resolve common conflicts.\n",
      "\n"
     ]
    },
    {
     "data": {
      "text/html": [
       "\n",
       "        <span>ListVector with 2 elements.</span>\n",
       "        <table>\n",
       "        <tbody>\n",
       "        \n",
       "          <tr>\n",
       "            <th>\n",
       "            value\n",
       "            </th>\n",
       "            <td>\n",
       "            <rpy2.rinterface.SexpClosure object at 0x7fbe0be6a480> [RTYPES.CLOSXP]\n",
       "            </td>\n",
       "          </tr>\n",
       "        \n",
       "          <tr>\n",
       "            <th>\n",
       "            visible\n",
       "            </th>\n",
       "            <td>\n",
       "            <rpy2.rinterface.BoolSexpVector object at 0x7fbe0be5c080> [RTYPES.LGLSXP]\n",
       "            </td>\n",
       "          </tr>\n",
       "        \n",
       "        </tbody>\n",
       "        </table>\n",
       "        "
      ],
      "text/plain": [
       "<rpy2.robjects.vectors.ListVector object at 0x7fbe64cb1100> [RTYPES.VECSXP]\n",
       "R classes: ('list',)\n",
       "[SexpClosure, BoolSexpVector]\n",
       "  value: <class 'rpy2.rinterface.SexpClosure'>\n",
       "  <rpy2.rinterface.SexpClosure object at 0x7fbe0be6aa40> [RTYPES.CLOSXP]\n",
       "  visible: <class 'rpy2.rinterface.BoolSexpVector'>\n",
       "  <rpy2.rinterface.BoolSexpVector object at 0x7fbe0be5c080> [RTYPES.LGLSXP]"
      ]
     },
     "execution_count": 1,
     "metadata": {},
     "output_type": "execute_result"
    }
   ],
   "source": [
    "import rpy2\n",
    "import rpy2.robjects as robjects\n",
    "from rpy2.robjects import rl\n",
    "from rpy2.ipython.ggplot import image_png\n",
    "from IPython.display import display, Image\n",
    "from IPython.display import clear_output\n",
    "import math\n",
    "import time\n",
    "import numpy\n",
    "import scipy\n",
    "from scipy import constants\n",
    "from module.pythonScript import agent\n",
    "\n",
    "\n",
    "r = robjects.r\n",
    "r.source(\"module/Rscript.R\")"
   ]
  },
  {
   "cell_type": "markdown",
   "id": "6d7d0ec9",
   "metadata": {},
   "source": [
    "Here we create all the instances of agent() in python. The instance variables of the agent() class is \n",
    "\n",
    "-    id: a name for this instance in string\n",
    "-    posx: the x component of their position\n",
    "-    posy: the y component of their position\n",
    "-    dx: the x component of their velocity\n",
    "-    dy: the y component of their velocity\n",
    "-    d2x: the x component of their acceleration\n",
    "-    d2y: the y component of their acceleration"
   ]
  },
  {
   "cell_type": "code",
   "execution_count": 2,
   "id": "7ec740e2",
   "metadata": {},
   "outputs": [],
   "source": [
    "agent001 = agent(\"001\",-10,0,0,0,0,0)\n",
    "agent002 = agent(\"002\",10,0,0,0,0,0)\n",
    "agent003 = agent(\"003\",0,17,0,0,0,0)"
   ]
  },
  {
   "cell_type": "markdown",
   "id": "a417a42e",
   "metadata": {},
   "source": [
    "Then, via functions from module.Rscript, we create a data frame in the R envirnment with all the necessary data from the previous instances of agent(). This data frame will be used to visualize our simulation."
   ]
  },
  {
   "cell_type": "code",
   "execution_count": 3,
   "id": "72160482",
   "metadata": {},
   "outputs": [
    {
     "name": "stdout",
     "output_type": "stream",
     "text": [
      "    id posx posy\n",
      "1 <NA>   NA   NA\n",
      "2  001  -10    0\n",
      "3  002   10    0\n",
      "4  003    0   17\n",
      "\n"
     ]
    }
   ],
   "source": [
    "RcreateDf = robjects.globalenv['createDf']\n",
    "RcreateDf()\n",
    "\n",
    "RaddAgent = robjects.globalenv['addAgent']\n",
    "RaddAgent([agent001.id, agent001.posx, agent001.posy])\n",
    "RaddAgent([agent002.id, agent002.posx, agent002.posy])\n",
    "RaddAgent([agent003.id, agent003.posx, agent003.posy])\n",
    "\n",
    "RgetDf = robjects.globalenv['getDf']\n",
    "print(RgetDf())"
   ]
  },
  {
   "cell_type": "markdown",
   "id": "67cec1b6",
   "metadata": {},
   "source": [
    "note there is a line of NAs. this is necessary - when you create a data frame in r with no values in any of the columns, it deletes the name of the columns. The NAs will not be visualized or effect the physics. "
   ]
  },
  {
   "cell_type": "markdown",
   "id": "f6daf412",
   "metadata": {},
   "source": [
    "here we finally run the simulation with a while loop. For every time step, we\n",
    "\n",
    "-    create a plot object from the data stored in the R data frame\n",
    "-    clear the curent plot displayed on creen and display the new one\n",
    "-    clear the R data frame\n",
    "-    calculate the position of every agent() object for the next time step\n",
    "-    update the R data frame to include this new information"
   ]
  },
  {
   "cell_type": "code",
   "execution_count": null,
   "id": "eed66a0b",
   "metadata": {},
   "outputs": [
    {
     "data": {
      "image/png": "[encoded data removed]",
      "text/plain": [
       "<IPython.core.display.Image object>"
      ]
     },
     "metadata": {},
     "output_type": "display_data"
    }
   ],
   "source": [
    "while True:\n",
    "\n",
    "    #visualize data stored in df   \n",
    "    RmakePlot = robjects.globalenv['makePlot']    #make plot from df stored in R session\n",
    "    p = RmakePlot()\n",
    "    #time.sleep(0.00001)\n",
    "    clear_output(wait=True)\n",
    "    display(image_png(p)) \n",
    "    \n",
    "    #clear df \n",
    "    RcreateDf = robjects.globalenv['createDf']\n",
    "    RcreateDf()\n",
    "    \n",
    "    #calculate next step & update df\n",
    "    for i in agent.existing_agents:\n",
    "        i.updateAgentA()\n",
    "        i.updateAgentVP()\n",
    "        RaddAgent([str(i.id), float(i.posx), float(i.posy)])"
   ]
  }
 ],
 "metadata": {
  "kernelspec": {
   "display_name": "Python 3 (ipykernel)",
   "language": "python",
   "name": "python3"
  },
  "language_info": {
   "codemirror_mode": {
    "name": "ipython",
    "version": 3
   },
   "file_extension": ".py",
   "mimetype": "text/x-python",
   "name": "python",
   "nbconvert_exporter": "python",
   "pygments_lexer": "ipython3",
   "version": "3.9.5"
  }
 },
 "nbformat": 4,
 "nbformat_minor": 5
}
