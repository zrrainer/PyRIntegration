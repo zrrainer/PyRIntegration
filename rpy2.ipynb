{
 "cells": [
  {
   "cell_type": "markdown",
   "id": "84493608",
   "metadata": {},
   "source": [
    "This is a physics simulation using the Class function in python, where every instance of the class obj() represent an object in the simulation. \n",
    "\n",
    "Visualization is done via the ggplot2 package in R. "
   ]
  },
  {
   "cell_type": "code",
   "execution_count": 1,
   "id": "0896d320",
   "metadata": {},
   "outputs": [],
   "source": [
    "import rpy2\n",
    "import rpy2.robjects as robjects\n",
    "from rpy2.robjects import rl\n",
    "from rpy2.ipython.ggplot import image_png\n",
    "from IPython.display import display, Image\n",
    "from IPython.display import clear_output\n",
    "import math\n",
    "import time\n",
    "import numpy\n",
    "import scipy\n",
    "from scipy import constants\n",
    "from module.pythonScript import obj\n",
    "\n",
    "\n",
    "r = robjects.r\n",
    "r.source(\"./module/Rscript.R\")"
   ]
  },
  {
   "cell_type": "markdown",
   "id": "6d7d0ec9",
   "metadata": {},
   "source": [
    "Here we create all the instances of agent() in python. The instance variables of the agent() class is \n",
    "\n",
    "-    id: a name for this instance in string\n",
    "-    posx: the x component of their position\n",
    "-    posy: the y component of their position\n",
    "-    dx: the x component of their velocity\n",
    "-    dy: the y component of their velocity\n",
    "-    d2x: the x component of their acceleration\n",
    "-    d2y: the y component of their acceleration"
   ]
  },
  {
   "cell_type": "code",
   "execution_count": 2,
   "id": "7ec740e2",
   "metadata": {},
   "outputs": [],
   "source": [
    "obj001 = obj(\"001\",-10,0,0,0,0,0)\n",
    "obj002 = obj(\"002\",10,0,0,0,0,0)\n",
    "obj003 = obj(\"003\",0,17,0,0,0,0)"
   ]
  },
  {
   "cell_type": "markdown",
   "id": "a417a42e",
   "metadata": {},
   "source": [
    "Then, via functions from module.Rscript, we create a data frame in the R envirnment with all the necessary data from the previous instances of agent(). This data frame will be used to visualize our simulation."
   ]
  },
  {
   "cell_type": "code",
   "execution_count": 3,
   "id": "72160482",
   "metadata": {},
   "outputs": [
    {
     "name": "stdout",
     "output_type": "stream",
     "text": [
      "    id posx posy\n",
      "1 <NA>   NA   NA\n",
      "2  001  -10    0\n",
      "3  002   10    0\n",
      "4  003    0   17\n",
      "\n"
     ]
    }
   ],
   "source": [
    "RcreateDf = robjects.globalenv['createDf']\n",
    "RcreateDf()\n",
    "\n",
    "RaddObj = robjects.globalenv['addObj']\n",
    "RaddObj([obj001.id, obj001.posx, obj001.posy])\n",
    "RaddObj([obj002.id, obj002.posx, obj002.posy])\n",
    "RaddObj([obj003.id, obj003.posx, obj003.posy])\n",
    "\n",
    "RgetDf = robjects.globalenv['getDf']\n",
    "print(RgetDf())"
   ]
  },
  {
   "cell_type": "markdown",
   "id": "67cec1b6",
   "metadata": {},
   "source": [
    "note there is a line of NAs. this is necessary - when a data frame is created in R with no values in any of the columns, it deletes the name of the columns. The NAs will not be visualized or effect the physics. "
   ]
  },
  {
   "cell_type": "markdown",
   "id": "f6daf412",
   "metadata": {},
   "source": [
    "here we finally run the simulation with a while loop. For every time step, we\n",
    "\n",
    "-    create a plot object from the data stored in the R data frame\n",
    "-    clear the curent plot displayed on creen and display the new one\n",
    "-    clear the R data frame\n",
    "-    calculate the position of every agent() object for the next time step\n",
    "-    update the R data frame to include this new information"
   ]
  },
  {
   "cell_type": "code",
   "execution_count": null,
   "id": "eed66a0b",
   "metadata": {},
   "outputs": [
    {
     "data": {
      "image/png": "[encoded data removed]",
      "text/plain": [
       "<IPython.core.display.Image object>"
      ]
     },
     "metadata": {},
     "output_type": "display_data"
    }
   ],
   "source": [
    "while True:\n",
    "\n",
    "    #visualize data stored in df   \n",
    "    RmakePlot = robjects.globalenv['makePlot']    #make plot from df stored in R session\n",
    "    p = RmakePlot()\n",
    "    #time.sleep(0.00001)\n",
    "    clear_output(wait=True)\n",
    "    display(image_png(p)) \n",
    "    \n",
    "    #clear df \n",
    "    RcreateDf = robjects.globalenv['createDf']\n",
    "    RcreateDf()\n",
    "    \n",
    "    #calculate next step & update df\n",
    "    for i in obj.existing_objs:\n",
    "        i.updateObjA()\n",
    "        i.updateObjVP()\n",
    "        RaddObj([str(i.id), float(i.posx), float(i.posy)])"
   ]
  }
 ],
 "metadata": {
  "kernelspec": {
   "display_name": "Python 3 (ipykernel)",
   "language": "python",
   "name": "python3"
  },
  "language_info": {
   "codemirror_mode": {
    "name": "ipython",
    "version": 3
   },
   "file_extension": ".py",
   "mimetype": "text/x-python",
   "name": "python",
   "nbconvert_exporter": "python",
   "pygments_lexer": "ipython3",
   "version": "3.11.0"
  }
 },
 "nbformat": 4,
 "nbformat_minor": 5
}
